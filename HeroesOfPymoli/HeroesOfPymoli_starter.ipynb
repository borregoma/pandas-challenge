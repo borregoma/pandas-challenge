{
 "cells": [
  {
   "cell_type": "markdown",
   "metadata": {},
   "source": [
    "### Note\n",
    "* Instructions have been included for each segment. You do not have to follow them exactly, but they are included to help you think through the steps."
   ]
  },
  {
   "cell_type": "code",
   "execution_count": 1,
   "metadata": {},
   "outputs": [
    {
     "data": {
      "text/html": [
       "<div>\n",
       "<style scoped>\n",
       "    .dataframe tbody tr th:only-of-type {\n",
       "        vertical-align: middle;\n",
       "    }\n",
       "\n",
       "    .dataframe tbody tr th {\n",
       "        vertical-align: top;\n",
       "    }\n",
       "\n",
       "    .dataframe thead th {\n",
       "        text-align: right;\n",
       "    }\n",
       "</style>\n",
       "<table border=\"1\" class=\"dataframe\">\n",
       "  <thead>\n",
       "    <tr style=\"text-align: right;\">\n",
       "      <th></th>\n",
       "      <th>Purchase ID</th>\n",
       "      <th>SN</th>\n",
       "      <th>Age</th>\n",
       "      <th>Gender</th>\n",
       "      <th>Item ID</th>\n",
       "      <th>Item Name</th>\n",
       "      <th>Price</th>\n",
       "    </tr>\n",
       "  </thead>\n",
       "  <tbody>\n",
       "    <tr>\n",
       "      <th>0</th>\n",
       "      <td>0</td>\n",
       "      <td>Lisim78</td>\n",
       "      <td>20</td>\n",
       "      <td>Male</td>\n",
       "      <td>108</td>\n",
       "      <td>Extraction, Quickblade Of Trembling Hands</td>\n",
       "      <td>3.53</td>\n",
       "    </tr>\n",
       "    <tr>\n",
       "      <th>1</th>\n",
       "      <td>1</td>\n",
       "      <td>Lisovynya38</td>\n",
       "      <td>40</td>\n",
       "      <td>Male</td>\n",
       "      <td>143</td>\n",
       "      <td>Frenzied Scimitar</td>\n",
       "      <td>1.56</td>\n",
       "    </tr>\n",
       "    <tr>\n",
       "      <th>2</th>\n",
       "      <td>2</td>\n",
       "      <td>Ithergue48</td>\n",
       "      <td>24</td>\n",
       "      <td>Male</td>\n",
       "      <td>92</td>\n",
       "      <td>Final Critic</td>\n",
       "      <td>4.88</td>\n",
       "    </tr>\n",
       "    <tr>\n",
       "      <th>3</th>\n",
       "      <td>3</td>\n",
       "      <td>Chamassasya86</td>\n",
       "      <td>24</td>\n",
       "      <td>Male</td>\n",
       "      <td>100</td>\n",
       "      <td>Blindscythe</td>\n",
       "      <td>3.27</td>\n",
       "    </tr>\n",
       "    <tr>\n",
       "      <th>4</th>\n",
       "      <td>4</td>\n",
       "      <td>Iskosia90</td>\n",
       "      <td>23</td>\n",
       "      <td>Male</td>\n",
       "      <td>131</td>\n",
       "      <td>Fury</td>\n",
       "      <td>1.44</td>\n",
       "    </tr>\n",
       "  </tbody>\n",
       "</table>\n",
       "</div>"
      ],
      "text/plain": [
       "   Purchase ID             SN  Age Gender  Item ID  \\\n",
       "0            0        Lisim78   20   Male      108   \n",
       "1            1    Lisovynya38   40   Male      143   \n",
       "2            2     Ithergue48   24   Male       92   \n",
       "3            3  Chamassasya86   24   Male      100   \n",
       "4            4      Iskosia90   23   Male      131   \n",
       "\n",
       "                                   Item Name  Price  \n",
       "0  Extraction, Quickblade Of Trembling Hands   3.53  \n",
       "1                          Frenzied Scimitar   1.56  \n",
       "2                               Final Critic   4.88  \n",
       "3                                Blindscythe   3.27  \n",
       "4                                       Fury   1.44  "
      ]
     },
     "execution_count": 1,
     "metadata": {},
     "output_type": "execute_result"
    }
   ],
   "source": [
    "#You've been assigned the task of analyzing the data for their most recent fantasy game Heroes of Pymoli.\n",
    "# generate a report that breaks down the game's purchasing data into meaningful insights.\n",
    "\n",
    "##### Total Number of Players---------------------------------------------------------------------------------576\n",
    "##### Number of Unique Items----------------------------------------------------------------------------------179\n",
    "##### Average Purchase Price----------------------------------------------------------------------------------3.05 USD\n",
    "##### Total Number of Purchases-------------------------------------------------------------------------------780\n",
    "##### Total Revenue-------------------------------------------------------------------------------------------2379.77 USD\n",
    "\n",
    "##### Percentage and Count of Male Players--------------------------------------------------------------------652; 83.59%\n",
    "##### Percentage and Count of Female Players------------------------------------------------------------------113; 14.49%\n",
    "##### Percentage and Count of Other / Non-Disclosed-----------------------------------------------------------15; 1.92%\n",
    "\n",
    "#### SEE BELOW CONCLUSIONS ####\n",
    "\n",
    "\n",
    "# Dependencies and Setup\n",
    "%matplotlib notebook\n",
    "\n",
    "import matplotlib.pyplot as plt\n",
    "import pandas as pd\n",
    "import numpy as np\n",
    "\n",
    "\n",
    "\n",
    "# File to Load\n",
    "table_df = pd.read_csv('Resources/purchase_data.csv')\n",
    "\n",
    "#Verifiying Source is being pulled correctly\n",
    "\n",
    "table_df.head()\n",
    "                "
   ]
  },
  {
   "cell_type": "markdown",
   "metadata": {},
   "source": [
    "## Player Count"
   ]
  },
  {
   "cell_type": "markdown",
   "metadata": {},
   "source": [
    "* Display the total number of players\n"
   ]
  },
  {
   "cell_type": "code",
   "execution_count": 2,
   "metadata": {
    "scrolled": true
   },
   "outputs": [
    {
     "data": {
      "text/html": [
       "<div>\n",
       "<style scoped>\n",
       "    .dataframe tbody tr th:only-of-type {\n",
       "        vertical-align: middle;\n",
       "    }\n",
       "\n",
       "    .dataframe tbody tr th {\n",
       "        vertical-align: top;\n",
       "    }\n",
       "\n",
       "    .dataframe thead th {\n",
       "        text-align: right;\n",
       "    }\n",
       "</style>\n",
       "<table border=\"1\" class=\"dataframe\">\n",
       "  <thead>\n",
       "    <tr style=\"text-align: right;\">\n",
       "      <th></th>\n",
       "      <th>Total Number of Players is</th>\n",
       "    </tr>\n",
       "  </thead>\n",
       "  <tbody>\n",
       "    <tr>\n",
       "      <th>0</th>\n",
       "      <td>576</td>\n",
       "    </tr>\n",
       "  </tbody>\n",
       "</table>\n",
       "</div>"
      ],
      "text/plain": [
       "   Total Number of Players is \n",
       "0                          576"
      ]
     },
     "execution_count": 2,
     "metadata": {},
     "output_type": "execute_result"
    }
   ],
   "source": [
    "##### Total Number of Players\n",
    "\n",
    "Initial_Analysis = table_df.loc[:,[\"SN\"]]\n",
    "Initial_Analysis.head()\n",
    "\n",
    "#Removing Duplicates and counting\n",
    "Initial_Analysis = Initial_Analysis.drop_duplicates()\n",
    "Total_Number_Players = Initial_Analysis.count()[0]\n",
    "Total_Number_Players\n",
    "\n",
    "#Result Presentation\n",
    "pd.DataFrame({\"Total Number of Players is \": [Total_Number_Players]})\n",
    "\n"
   ]
  },
  {
   "cell_type": "markdown",
   "metadata": {},
   "source": [
    "## Purchasing Analysis (Total)"
   ]
  },
  {
   "cell_type": "markdown",
   "metadata": {},
   "source": [
    "* Run basic calculations to obtain number of unique items, average price, etc.\n",
    "\n",
    "\n",
    "* Create a summary data frame to hold the results\n",
    "\n",
    "\n",
    "* Optional: give the displayed data cleaner formatting\n",
    "\n",
    "\n",
    "* Display the summary data frame\n"
   ]
  },
  {
   "cell_type": "code",
   "execution_count": 3,
   "metadata": {},
   "outputs": [
    {
     "data": {
      "text/html": [
       "<div>\n",
       "<style scoped>\n",
       "    .dataframe tbody tr th:only-of-type {\n",
       "        vertical-align: middle;\n",
       "    }\n",
       "\n",
       "    .dataframe tbody tr th {\n",
       "        vertical-align: top;\n",
       "    }\n",
       "\n",
       "    .dataframe thead th {\n",
       "        text-align: right;\n",
       "    }\n",
       "</style>\n",
       "<table border=\"1\" class=\"dataframe\">\n",
       "  <thead>\n",
       "    <tr style=\"text-align: right;\">\n",
       "      <th></th>\n",
       "      <th>Total of Unique Items is</th>\n",
       "    </tr>\n",
       "  </thead>\n",
       "  <tbody>\n",
       "    <tr>\n",
       "      <th>0</th>\n",
       "      <td>179</td>\n",
       "    </tr>\n",
       "  </tbody>\n",
       "</table>\n",
       "</div>"
      ],
      "text/plain": [
       "   Total of Unique Items is \n",
       "0                        179"
      ]
     },
     "execution_count": 3,
     "metadata": {},
     "output_type": "execute_result"
    }
   ],
   "source": [
    "#Getting the Unique_Items\n",
    "\n",
    "Unique_Items = len(table_df[\"Item ID\"].unique())\n",
    "Unique_Items\n",
    "\n",
    "\n",
    "#Result Presentation\n",
    "pd.DataFrame({\"Total of Unique Items is \": [Unique_Items]})"
   ]
  },
  {
   "cell_type": "code",
   "execution_count": 4,
   "metadata": {},
   "outputs": [
    {
     "data": {
      "text/html": [
       "<div>\n",
       "<style scoped>\n",
       "    .dataframe tbody tr th:only-of-type {\n",
       "        vertical-align: middle;\n",
       "    }\n",
       "\n",
       "    .dataframe tbody tr th {\n",
       "        vertical-align: top;\n",
       "    }\n",
       "\n",
       "    .dataframe thead th {\n",
       "        text-align: right;\n",
       "    }\n",
       "</style>\n",
       "<table border=\"1\" class=\"dataframe\">\n",
       "  <thead>\n",
       "    <tr style=\"text-align: right;\">\n",
       "      <th></th>\n",
       "      <th>The average Purchase Price is</th>\n",
       "    </tr>\n",
       "  </thead>\n",
       "  <tbody>\n",
       "    <tr>\n",
       "      <th>0</th>\n",
       "      <td>3.05</td>\n",
       "    </tr>\n",
       "  </tbody>\n",
       "</table>\n",
       "</div>"
      ],
      "text/plain": [
       "   The average Purchase Price is \n",
       "0                            3.05"
      ]
     },
     "execution_count": 4,
     "metadata": {},
     "output_type": "execute_result"
    }
   ],
   "source": [
    "##### Average Purchase Price\n",
    "\n",
    "Average_Price= round(table_df[\"Price\"].mean(),2)\n",
    "Average_Price\n",
    "\n",
    "#Result Presentation\n",
    "pd.DataFrame({\"The average Purchase Price is \": [Average_Price]})"
   ]
  },
  {
   "cell_type": "code",
   "execution_count": 5,
   "metadata": {},
   "outputs": [
    {
     "data": {
      "text/html": [
       "<div>\n",
       "<style scoped>\n",
       "    .dataframe tbody tr th:only-of-type {\n",
       "        vertical-align: middle;\n",
       "    }\n",
       "\n",
       "    .dataframe tbody tr th {\n",
       "        vertical-align: top;\n",
       "    }\n",
       "\n",
       "    .dataframe thead th {\n",
       "        text-align: right;\n",
       "    }\n",
       "</style>\n",
       "<table border=\"1\" class=\"dataframe\">\n",
       "  <thead>\n",
       "    <tr style=\"text-align: right;\">\n",
       "      <th></th>\n",
       "      <th>The Total Number of Purchases is</th>\n",
       "    </tr>\n",
       "  </thead>\n",
       "  <tbody>\n",
       "    <tr>\n",
       "      <th>0</th>\n",
       "      <td>780</td>\n",
       "    </tr>\n",
       "  </tbody>\n",
       "</table>\n",
       "</div>"
      ],
      "text/plain": [
       "   The Total Number of Purchases is \n",
       "0                                780"
      ]
     },
     "execution_count": 5,
     "metadata": {},
     "output_type": "execute_result"
    }
   ],
   "source": [
    "##### Total Number of Purchases\n",
    "\n",
    "Total_Purchases = table_df[\"Price\"].count()\n",
    "Total_Purchases\n",
    "\n",
    "#Result Presentation\n",
    "pd.DataFrame({\"The Total Number of Purchases is \": [Total_Purchases]})"
   ]
  },
  {
   "cell_type": "code",
   "execution_count": 6,
   "metadata": {},
   "outputs": [
    {
     "data": {
      "text/html": [
       "<div>\n",
       "<style scoped>\n",
       "    .dataframe tbody tr th:only-of-type {\n",
       "        vertical-align: middle;\n",
       "    }\n",
       "\n",
       "    .dataframe tbody tr th {\n",
       "        vertical-align: top;\n",
       "    }\n",
       "\n",
       "    .dataframe thead th {\n",
       "        text-align: right;\n",
       "    }\n",
       "</style>\n",
       "<table border=\"1\" class=\"dataframe\">\n",
       "  <thead>\n",
       "    <tr style=\"text-align: right;\">\n",
       "      <th></th>\n",
       "      <th>The Total Revenue is</th>\n",
       "    </tr>\n",
       "  </thead>\n",
       "  <tbody>\n",
       "    <tr>\n",
       "      <th>0</th>\n",
       "      <td>2379.77</td>\n",
       "    </tr>\n",
       "  </tbody>\n",
       "</table>\n",
       "</div>"
      ],
      "text/plain": [
       "   The Total Revenue is \n",
       "0                2379.77"
      ]
     },
     "execution_count": 6,
     "metadata": {},
     "output_type": "execute_result"
    }
   ],
   "source": [
    "##### Total Revenue\n",
    "\n",
    "Total_Revenue = table_df[\"Price\"].sum()\n",
    "Total_Revenue\n",
    "\n",
    "#Result Presentation\n",
    "pd.DataFrame({\"The Total Revenue is \": [Total_Revenue]})"
   ]
  },
  {
   "cell_type": "code",
   "execution_count": 7,
   "metadata": {},
   "outputs": [
    {
     "data": {
      "text/html": [
       "<div>\n",
       "<style scoped>\n",
       "    .dataframe tbody tr th:only-of-type {\n",
       "        vertical-align: middle;\n",
       "    }\n",
       "\n",
       "    .dataframe tbody tr th {\n",
       "        vertical-align: top;\n",
       "    }\n",
       "\n",
       "    .dataframe thead th {\n",
       "        text-align: right;\n",
       "    }\n",
       "</style>\n",
       "<table border=\"1\" class=\"dataframe\">\n",
       "  <thead>\n",
       "    <tr style=\"text-align: right;\">\n",
       "      <th></th>\n",
       "      <th>Total_Number_Players</th>\n",
       "      <th>Total of Unique Items</th>\n",
       "      <th>Average Purchase Price</th>\n",
       "      <th>Total Number of Purchases</th>\n",
       "      <th>Total Revenue</th>\n",
       "    </tr>\n",
       "  </thead>\n",
       "  <tbody>\n",
       "    <tr>\n",
       "      <th>0</th>\n",
       "      <td>576</td>\n",
       "      <td>179</td>\n",
       "      <td>3.05</td>\n",
       "      <td>780</td>\n",
       "      <td>2379.77</td>\n",
       "    </tr>\n",
       "  </tbody>\n",
       "</table>\n",
       "</div>"
      ],
      "text/plain": [
       "   Total_Number_Players  Total of Unique Items  Average Purchase Price  \\\n",
       "0                   576                    179                    3.05   \n",
       "\n",
       "   Total Number of Purchases  Total Revenue  \n",
       "0                        780        2379.77  "
      ]
     },
     "metadata": {},
     "output_type": "display_data"
    }
   ],
   "source": [
    "#Displaying All in one\n",
    "\n",
    "Display_Summary={'Total_Number_Players' :[Total_Number_Players],\n",
    "                 'Total of Unique Items' : [Unique_Items],\n",
    "                 'Average Purchase Price' : [Average_Price],\n",
    "                 'Total Number of Purchases' : [Total_Purchases],\n",
    "                 'Total Revenue' : [Total_Revenue]}\n",
    "\n",
    "df = pd.DataFrame(Display_Summary)\n",
    "display(df)"
   ]
  },
  {
   "cell_type": "markdown",
   "metadata": {},
   "source": [
    "## Gender Demographics"
   ]
  },
  {
   "cell_type": "markdown",
   "metadata": {},
   "source": [
    "* Percentage and Count of Male Players\n",
    "\n",
    "\n",
    "* Percentage and Count of Female Players\n",
    "\n",
    "\n",
    "* Percentage and Count of Other / Non-Disclosed\n",
    "\n",
    "\n"
   ]
  },
  {
   "cell_type": "code",
   "execution_count": 8,
   "metadata": {},
   "outputs": [
    {
     "data": {
      "text/plain": [
       "Male                     652\n",
       "Female                   113\n",
       "Other / Non-Disclosed     15\n",
       "Name: Gender, dtype: int64"
      ]
     },
     "execution_count": 8,
     "metadata": {},
     "output_type": "execute_result"
    }
   ],
   "source": [
    "##### Count of Male Players\n",
    "##### Count of Female Players\n",
    "##### Count of Other / Non-Disclosed\n",
    "\n",
    "Total_Count = table_df[\"Gender\"].count()\n",
    "Gender_Count = table_df[\"Gender\"].value_counts()\n",
    "Gender_Count\n"
   ]
  },
  {
   "cell_type": "code",
   "execution_count": 9,
   "metadata": {},
   "outputs": [
    {
     "data": {
      "text/plain": [
       "Male                     83.59\n",
       "Female                   14.49\n",
       "Other / Non-Disclosed     1.92\n",
       "Name: Gender, dtype: float64"
      ]
     },
     "execution_count": 9,
     "metadata": {},
     "output_type": "execute_result"
    }
   ],
   "source": [
    "##### Percentage of Male Players\n",
    "##### Percentage of Female Players\n",
    "##### Percentage of Other / Non-Disclosed\n",
    "\n",
    "Gender_Count_Percentage = round((Gender_Count / Total_Count) *100,2)\n",
    "Gender_Count_Percentage"
   ]
  },
  {
   "cell_type": "code",
   "execution_count": 10,
   "metadata": {},
   "outputs": [
    {
     "data": {
      "text/html": [
       "<style  type=\"text/css\" >\n",
       "</style><table id=\"T_c51933f5_a6fb_11eb_9858_7c5cf87e80d7\" ><thead>    <tr>        <th class=\"blank level0\" ></th>        <th class=\"col_heading level0 col0\" >Count per Gender</th>        <th class=\"col_heading level0 col1\" >Porcentahe per Gender</th>    </tr></thead><tbody>\n",
       "                <tr>\n",
       "                        <th id=\"T_c51933f5_a6fb_11eb_9858_7c5cf87e80d7level0_row0\" class=\"row_heading level0 row0\" >Male</th>\n",
       "                        <td id=\"T_c51933f5_a6fb_11eb_9858_7c5cf87e80d7row0_col0\" class=\"data row0 col0\" >652.00</td>\n",
       "                        <td id=\"T_c51933f5_a6fb_11eb_9858_7c5cf87e80d7row0_col1\" class=\"data row0 col1\" >83.590000</td>\n",
       "            </tr>\n",
       "            <tr>\n",
       "                        <th id=\"T_c51933f5_a6fb_11eb_9858_7c5cf87e80d7level0_row1\" class=\"row_heading level0 row1\" >Female</th>\n",
       "                        <td id=\"T_c51933f5_a6fb_11eb_9858_7c5cf87e80d7row1_col0\" class=\"data row1 col0\" >113.00</td>\n",
       "                        <td id=\"T_c51933f5_a6fb_11eb_9858_7c5cf87e80d7row1_col1\" class=\"data row1 col1\" >14.490000</td>\n",
       "            </tr>\n",
       "            <tr>\n",
       "                        <th id=\"T_c51933f5_a6fb_11eb_9858_7c5cf87e80d7level0_row2\" class=\"row_heading level0 row2\" >Other / Non-Disclosed</th>\n",
       "                        <td id=\"T_c51933f5_a6fb_11eb_9858_7c5cf87e80d7row2_col0\" class=\"data row2 col0\" >15.00</td>\n",
       "                        <td id=\"T_c51933f5_a6fb_11eb_9858_7c5cf87e80d7row2_col1\" class=\"data row2 col1\" >1.920000</td>\n",
       "            </tr>\n",
       "    </tbody></table>"
      ],
      "text/plain": [
       "<pandas.io.formats.style.Styler at 0x161e81a51f0>"
      ]
     },
     "execution_count": 10,
     "metadata": {},
     "output_type": "execute_result"
    }
   ],
   "source": [
    "#Displaying Gender demographics\n",
    "\n",
    "Gender_Summary= {'Count per Gender' : [Gender_Count],\n",
    "                 'Percentage per Gender' : [Gender_Count_Percentage]}\n",
    "\n",
    "Gender_demographics = pd.DataFrame({\"Count per Gender\" : Gender_Count, \"Porcentahe per Gender\" : Gender_Count_Percentage})\n",
    "df.head()\n",
    "Gender_demographics.index.name = None\n",
    "Gender_demographics.style.format({\"Count per Gender\":\"{:,.2f}\"})"
   ]
  },
  {
   "cell_type": "markdown",
   "metadata": {},
   "source": [
    "\n",
    "## Purchasing Analysis (Gender)"
   ]
  },
  {
   "cell_type": "markdown",
   "metadata": {},
   "source": [
    "* Run basic calculations to obtain purchase count, avg. purchase price, avg. purchase total per person etc. by gender\n",
    "\n",
    "\n",
    "\n",
    "\n",
    "* Create a summary data frame to hold the results\n",
    "\n",
    "\n",
    "* Optional: give the displayed data cleaner formatting\n",
    "\n",
    "\n",
    "* Display the summary data frame"
   ]
  },
  {
   "cell_type": "code",
   "execution_count": 11,
   "metadata": {
    "scrolled": true
   },
   "outputs": [
    {
     "data": {
      "text/html": [
       "<div>\n",
       "<style scoped>\n",
       "    .dataframe tbody tr th:only-of-type {\n",
       "        vertical-align: middle;\n",
       "    }\n",
       "\n",
       "    .dataframe tbody tr th {\n",
       "        vertical-align: top;\n",
       "    }\n",
       "\n",
       "    .dataframe thead th {\n",
       "        text-align: right;\n",
       "    }\n",
       "</style>\n",
       "<table border=\"1\" class=\"dataframe\">\n",
       "  <thead>\n",
       "    <tr style=\"text-align: right;\">\n",
       "      <th></th>\n",
       "      <th>Gender</th>\n",
       "      <th>Price</th>\n",
       "    </tr>\n",
       "  </thead>\n",
       "  <tbody>\n",
       "    <tr>\n",
       "      <th>0</th>\n",
       "      <td>Male</td>\n",
       "      <td>3.53</td>\n",
       "    </tr>\n",
       "    <tr>\n",
       "      <th>1</th>\n",
       "      <td>Male</td>\n",
       "      <td>1.56</td>\n",
       "    </tr>\n",
       "    <tr>\n",
       "      <th>2</th>\n",
       "      <td>Male</td>\n",
       "      <td>4.88</td>\n",
       "    </tr>\n",
       "    <tr>\n",
       "      <th>3</th>\n",
       "      <td>Male</td>\n",
       "      <td>3.27</td>\n",
       "    </tr>\n",
       "    <tr>\n",
       "      <th>4</th>\n",
       "      <td>Male</td>\n",
       "      <td>1.44</td>\n",
       "    </tr>\n",
       "    <tr>\n",
       "      <th>...</th>\n",
       "      <td>...</td>\n",
       "      <td>...</td>\n",
       "    </tr>\n",
       "    <tr>\n",
       "      <th>775</th>\n",
       "      <td>Female</td>\n",
       "      <td>3.54</td>\n",
       "    </tr>\n",
       "    <tr>\n",
       "      <th>776</th>\n",
       "      <td>Male</td>\n",
       "      <td>1.63</td>\n",
       "    </tr>\n",
       "    <tr>\n",
       "      <th>777</th>\n",
       "      <td>Male</td>\n",
       "      <td>3.46</td>\n",
       "    </tr>\n",
       "    <tr>\n",
       "      <th>778</th>\n",
       "      <td>Male</td>\n",
       "      <td>4.19</td>\n",
       "    </tr>\n",
       "    <tr>\n",
       "      <th>779</th>\n",
       "      <td>Male</td>\n",
       "      <td>4.60</td>\n",
       "    </tr>\n",
       "  </tbody>\n",
       "</table>\n",
       "<p>780 rows × 2 columns</p>\n",
       "</div>"
      ],
      "text/plain": [
       "     Gender  Price\n",
       "0      Male   3.53\n",
       "1      Male   1.56\n",
       "2      Male   4.88\n",
       "3      Male   3.27\n",
       "4      Male   1.44\n",
       "..      ...    ...\n",
       "775  Female   3.54\n",
       "776    Male   1.63\n",
       "777    Male   3.46\n",
       "778    Male   4.19\n",
       "779    Male   4.60\n",
       "\n",
       "[780 rows x 2 columns]"
      ]
     },
     "execution_count": 11,
     "metadata": {},
     "output_type": "execute_result"
    }
   ],
   "source": [
    "\n",
    "\n",
    "\n",
    "#### Average Purchase Total per Person by Gender\n",
    "\n",
    "#Table of Price per Gender\n",
    "Gender_Price_df = table_df[[\"Gender\", \"Price\"]]\n",
    "Gender_Price_df"
   ]
  },
  {
   "cell_type": "code",
   "execution_count": 12,
   "metadata": {},
   "outputs": [
    {
     "name": "stdout",
     "output_type": "stream",
     "text": [
      "<pandas.core.groupby.generic.DataFrameGroupBy object at 0x00000161E85947C0>\n"
     ]
    },
    {
     "data": {
      "text/html": [
       "<div>\n",
       "<style scoped>\n",
       "    .dataframe tbody tr th:only-of-type {\n",
       "        vertical-align: middle;\n",
       "    }\n",
       "\n",
       "    .dataframe tbody tr th {\n",
       "        vertical-align: top;\n",
       "    }\n",
       "\n",
       "    .dataframe thead th {\n",
       "        text-align: right;\n",
       "    }\n",
       "</style>\n",
       "<table border=\"1\" class=\"dataframe\">\n",
       "  <thead>\n",
       "    <tr style=\"text-align: right;\">\n",
       "      <th></th>\n",
       "      <th>Purchase ID</th>\n",
       "      <th>SN</th>\n",
       "      <th>Age</th>\n",
       "      <th>Item ID</th>\n",
       "      <th>Item Name</th>\n",
       "      <th>Price</th>\n",
       "    </tr>\n",
       "    <tr>\n",
       "      <th>Gender</th>\n",
       "      <th></th>\n",
       "      <th></th>\n",
       "      <th></th>\n",
       "      <th></th>\n",
       "      <th></th>\n",
       "      <th></th>\n",
       "    </tr>\n",
       "  </thead>\n",
       "  <tbody>\n",
       "    <tr>\n",
       "      <th>Female</th>\n",
       "      <td>113</td>\n",
       "      <td>113</td>\n",
       "      <td>113</td>\n",
       "      <td>113</td>\n",
       "      <td>113</td>\n",
       "      <td>113</td>\n",
       "    </tr>\n",
       "    <tr>\n",
       "      <th>Male</th>\n",
       "      <td>652</td>\n",
       "      <td>652</td>\n",
       "      <td>652</td>\n",
       "      <td>652</td>\n",
       "      <td>652</td>\n",
       "      <td>652</td>\n",
       "    </tr>\n",
       "    <tr>\n",
       "      <th>Other / Non-Disclosed</th>\n",
       "      <td>15</td>\n",
       "      <td>15</td>\n",
       "      <td>15</td>\n",
       "      <td>15</td>\n",
       "      <td>15</td>\n",
       "      <td>15</td>\n",
       "    </tr>\n",
       "  </tbody>\n",
       "</table>\n",
       "</div>"
      ],
      "text/plain": [
       "                       Purchase ID   SN  Age  Item ID  Item Name  Price\n",
       "Gender                                                                 \n",
       "Female                         113  113  113      113        113    113\n",
       "Male                           652  652  652      652        652    652\n",
       "Other / Non-Disclosed           15   15   15       15         15     15"
      ]
     },
     "execution_count": 12,
     "metadata": {},
     "output_type": "execute_result"
    }
   ],
   "source": [
    "#### Purchase Count per Gender\n",
    "\n",
    "Gender_Price_df = table_df.groupby(['Gender'])\n",
    "print(Gender_Price_df)\n",
    "\n",
    "Gender_Price_df.count().head()\n"
   ]
  },
  {
   "cell_type": "code",
   "execution_count": 13,
   "metadata": {},
   "outputs": [
    {
     "data": {
      "text/html": [
       "<div>\n",
       "<style scoped>\n",
       "    .dataframe tbody tr th:only-of-type {\n",
       "        vertical-align: middle;\n",
       "    }\n",
       "\n",
       "    .dataframe tbody tr th {\n",
       "        vertical-align: top;\n",
       "    }\n",
       "\n",
       "    .dataframe thead th {\n",
       "        text-align: right;\n",
       "    }\n",
       "</style>\n",
       "<table border=\"1\" class=\"dataframe\">\n",
       "  <thead>\n",
       "    <tr style=\"text-align: right;\">\n",
       "      <th></th>\n",
       "      <th>Purchase ID</th>\n",
       "      <th>Age</th>\n",
       "      <th>Item ID</th>\n",
       "      <th>Price</th>\n",
       "    </tr>\n",
       "    <tr>\n",
       "      <th>Gender</th>\n",
       "      <th></th>\n",
       "      <th></th>\n",
       "      <th></th>\n",
       "      <th></th>\n",
       "    </tr>\n",
       "  </thead>\n",
       "  <tbody>\n",
       "    <tr>\n",
       "      <th>Female</th>\n",
       "      <td>42870</td>\n",
       "      <td>2412</td>\n",
       "      <td>9659</td>\n",
       "      <td>361.94</td>\n",
       "    </tr>\n",
       "    <tr>\n",
       "      <th>Male</th>\n",
       "      <td>255921</td>\n",
       "      <td>14942</td>\n",
       "      <td>60698</td>\n",
       "      <td>1967.64</td>\n",
       "    </tr>\n",
       "    <tr>\n",
       "      <th>Other / Non-Disclosed</th>\n",
       "      <td>5019</td>\n",
       "      <td>363</td>\n",
       "      <td>1212</td>\n",
       "      <td>50.19</td>\n",
       "    </tr>\n",
       "  </tbody>\n",
       "</table>\n",
       "</div>"
      ],
      "text/plain": [
       "                       Purchase ID    Age  Item ID    Price\n",
       "Gender                                                     \n",
       "Female                       42870   2412     9659   361.94\n",
       "Male                        255921  14942    60698  1967.64\n",
       "Other / Non-Disclosed         5019    363     1212    50.19"
      ]
     },
     "execution_count": 13,
     "metadata": {},
     "output_type": "execute_result"
    }
   ],
   "source": [
    "#### Total Purchase Value\n",
    "\n",
    "Gender_Price_df[\"Price\"].sum()\n",
    "Gender_Price_df.sum().head()"
   ]
  },
  {
   "cell_type": "code",
   "execution_count": 14,
   "metadata": {},
   "outputs": [
    {
     "data": {
      "text/plain": [
       "Gender\n",
       "Female                   3.203009\n",
       "Male                     3.017853\n",
       "Other / Non-Disclosed    3.346000\n",
       "Name: Price, dtype: float64"
      ]
     },
     "execution_count": 14,
     "metadata": {},
     "output_type": "execute_result"
    }
   ],
   "source": [
    "#### Average Purchase Price\n",
    "\n",
    "Average_Purchase_Price = Gender_Price_df[\"Price\"].mean()\n",
    "Average_Purchase_Price.head()"
   ]
  },
  {
   "cell_type": "raw",
   "metadata": {},
   "source": []
  },
  {
   "cell_type": "markdown",
   "metadata": {},
   "source": [
    "## Age Demographics"
   ]
  },
  {
   "cell_type": "markdown",
   "metadata": {},
   "source": [
    "* Establish bins for ages\n",
    "\n",
    "\n",
    "* Categorize the existing players using the age bins. Hint: use pd.cut()\n",
    "\n",
    "\n",
    "* Calculate the numbers and percentages by age group\n",
    "\n",
    "\n",
    "* Create a summary data frame to hold the results\n",
    "\n",
    "\n",
    "* Optional: round the percentage column to two decimal points\n",
    "\n",
    "\n",
    "* Display Age Demographics Table\n"
   ]
  },
  {
   "cell_type": "code",
   "execution_count": 15,
   "metadata": {},
   "outputs": [
    {
     "data": {
      "text/html": [
       "<style  type=\"text/css\" >\n",
       "</style><table id=\"T_c5315694_a6fb_11eb_924f_7c5cf87e80d7\" ><thead>    <tr>        <th class=\"blank level0\" ></th>        <th class=\"col_heading level0 col0\" >Purchase Count</th>        <th class=\"col_heading level0 col1\" >Porcentage</th>    </tr></thead><tbody>\n",
       "                <tr>\n",
       "                        <th id=\"T_c5315694_a6fb_11eb_924f_7c5cf87e80d7level0_row0\" class=\"row_heading level0 row0\" ><14</th>\n",
       "                        <td id=\"T_c5315694_a6fb_11eb_924f_7c5cf87e80d7row0_col0\" class=\"data row0 col0\" >39</td>\n",
       "                        <td id=\"T_c5315694_a6fb_11eb_924f_7c5cf87e80d7row0_col1\" class=\"data row0 col1\" >6.770000</td>\n",
       "            </tr>\n",
       "            <tr>\n",
       "                        <th id=\"T_c5315694_a6fb_11eb_924f_7c5cf87e80d7level0_row1\" class=\"row_heading level0 row1\" >15-19</th>\n",
       "                        <td id=\"T_c5315694_a6fb_11eb_924f_7c5cf87e80d7row1_col0\" class=\"data row1 col0\" >107</td>\n",
       "                        <td id=\"T_c5315694_a6fb_11eb_924f_7c5cf87e80d7row1_col1\" class=\"data row1 col1\" >18.580000</td>\n",
       "            </tr>\n",
       "            <tr>\n",
       "                        <th id=\"T_c5315694_a6fb_11eb_924f_7c5cf87e80d7level0_row2\" class=\"row_heading level0 row2\" >20-24</th>\n",
       "                        <td id=\"T_c5315694_a6fb_11eb_924f_7c5cf87e80d7row2_col0\" class=\"data row2 col0\" >258</td>\n",
       "                        <td id=\"T_c5315694_a6fb_11eb_924f_7c5cf87e80d7row2_col1\" class=\"data row2 col1\" >44.790000</td>\n",
       "            </tr>\n",
       "            <tr>\n",
       "                        <th id=\"T_c5315694_a6fb_11eb_924f_7c5cf87e80d7level0_row3\" class=\"row_heading level0 row3\" >25-29</th>\n",
       "                        <td id=\"T_c5315694_a6fb_11eb_924f_7c5cf87e80d7row3_col0\" class=\"data row3 col0\" >77</td>\n",
       "                        <td id=\"T_c5315694_a6fb_11eb_924f_7c5cf87e80d7row3_col1\" class=\"data row3 col1\" >13.370000</td>\n",
       "            </tr>\n",
       "            <tr>\n",
       "                        <th id=\"T_c5315694_a6fb_11eb_924f_7c5cf87e80d7level0_row4\" class=\"row_heading level0 row4\" >30-34</th>\n",
       "                        <td id=\"T_c5315694_a6fb_11eb_924f_7c5cf87e80d7row4_col0\" class=\"data row4 col0\" >52</td>\n",
       "                        <td id=\"T_c5315694_a6fb_11eb_924f_7c5cf87e80d7row4_col1\" class=\"data row4 col1\" >9.030000</td>\n",
       "            </tr>\n",
       "            <tr>\n",
       "                        <th id=\"T_c5315694_a6fb_11eb_924f_7c5cf87e80d7level0_row5\" class=\"row_heading level0 row5\" >>34</th>\n",
       "                        <td id=\"T_c5315694_a6fb_11eb_924f_7c5cf87e80d7row5_col0\" class=\"data row5 col0\" >43</td>\n",
       "                        <td id=\"T_c5315694_a6fb_11eb_924f_7c5cf87e80d7row5_col1\" class=\"data row5 col1\" >7.470000</td>\n",
       "            </tr>\n",
       "    </tbody></table>"
      ],
      "text/plain": [
       "<pandas.io.formats.style.Styler at 0x161e8550f10>"
      ]
     },
     "execution_count": 15,
     "metadata": {},
     "output_type": "execute_result"
    }
   ],
   "source": [
    "#### The below each broken into bins of 4 years (i.e. <10, 10-14, 15-19, etc.)\n",
    "# checking the Min-Max of the Age List to establish a more broad Age Intervals\n",
    "\n",
    "Upper_value = table_df[\"Age\"].max()\n",
    "Lower_value = table_df[\"Age\"].min()\n",
    "Upper_value, Lower_value\n",
    "\n",
    "Bins = [0, 14.90, 19.90, 24.90, 29.90, 34.90, 49.90]\n",
    "Rows = [\"<14\", \"15-19\", \"20-24\",\"25-29\",\"30-34\",\">34\"]\n",
    "\n",
    "#### Purchase Count per Age Intervals & percentage\n",
    "\n",
    "table_df[\"Age_Intervals\"] = pd.cut(table_df[\"Age\"], Bins, labels=Rows)\n",
    "Age_Intervals_df = table_df.groupby(\"Age_Intervals\")\n",
    "Age_Intervals_count = Age_Intervals_df[\"SN\"].nunique()\n",
    "Porcentage_Count = round(((Age_Intervals_count/Total_Number_Players)* 100),2)\n",
    "\n",
    "Age_Demographics = pd.DataFrame({\"Purchase Count\" : Age_Intervals_count, \"Porcentage\" : Porcentage_Count})\n",
    "Age_Demographics.index.name = None\n",
    "Age_Demographics.style.format({\"Count per Age\":\"{:,.2f}\"})"
   ]
  },
  {
   "cell_type": "code",
   "execution_count": 16,
   "metadata": {},
   "outputs": [
    {
     "data": {
      "text/html": [
       "<style  type=\"text/css\" >\n",
       "</style><table id=\"T_c534be06_a6fb_11eb_b3ec_7c5cf87e80d7\" ><thead>    <tr>        <th class=\"blank level0\" ></th>        <th class=\"col_heading level0 col0\" >Average Purchase Price</th>        <th class=\"col_heading level0 col1\" >Total Purchase Value</th>        <th class=\"col_heading level0 col2\" >Average Purchase Total per Person by Age Group</th>    </tr></thead><tbody>\n",
       "                <tr>\n",
       "                        <th id=\"T_c534be06_a6fb_11eb_b3ec_7c5cf87e80d7level0_row0\" class=\"row_heading level0 row0\" ><14</th>\n",
       "                        <td id=\"T_c534be06_a6fb_11eb_b3ec_7c5cf87e80d7row0_col0\" class=\"data row0 col0\" >3.14</td>\n",
       "                        <td id=\"T_c534be06_a6fb_11eb_b3ec_7c5cf87e80d7row0_col1\" class=\"data row0 col1\" >159.91</td>\n",
       "                        <td id=\"T_c534be06_a6fb_11eb_b3ec_7c5cf87e80d7row0_col2\" class=\"data row0 col2\" >4.10</td>\n",
       "            </tr>\n",
       "            <tr>\n",
       "                        <th id=\"T_c534be06_a6fb_11eb_b3ec_7c5cf87e80d7level0_row1\" class=\"row_heading level0 row1\" >15-19</th>\n",
       "                        <td id=\"T_c534be06_a6fb_11eb_b3ec_7c5cf87e80d7row1_col0\" class=\"data row1 col0\" >3.04</td>\n",
       "                        <td id=\"T_c534be06_a6fb_11eb_b3ec_7c5cf87e80d7row1_col1\" class=\"data row1 col1\" >412.89</td>\n",
       "                        <td id=\"T_c534be06_a6fb_11eb_b3ec_7c5cf87e80d7row1_col2\" class=\"data row1 col2\" >3.86</td>\n",
       "            </tr>\n",
       "            <tr>\n",
       "                        <th id=\"T_c534be06_a6fb_11eb_b3ec_7c5cf87e80d7level0_row2\" class=\"row_heading level0 row2\" >20-24</th>\n",
       "                        <td id=\"T_c534be06_a6fb_11eb_b3ec_7c5cf87e80d7row2_col0\" class=\"data row2 col0\" >3.05</td>\n",
       "                        <td id=\"T_c534be06_a6fb_11eb_b3ec_7c5cf87e80d7row2_col1\" class=\"data row2 col1\" >1,114.06</td>\n",
       "                        <td id=\"T_c534be06_a6fb_11eb_b3ec_7c5cf87e80d7row2_col2\" class=\"data row2 col2\" >4.32</td>\n",
       "            </tr>\n",
       "            <tr>\n",
       "                        <th id=\"T_c534be06_a6fb_11eb_b3ec_7c5cf87e80d7level0_row3\" class=\"row_heading level0 row3\" >25-29</th>\n",
       "                        <td id=\"T_c534be06_a6fb_11eb_b3ec_7c5cf87e80d7row3_col0\" class=\"data row3 col0\" >2.90</td>\n",
       "                        <td id=\"T_c534be06_a6fb_11eb_b3ec_7c5cf87e80d7row3_col1\" class=\"data row3 col1\" >293.00</td>\n",
       "                        <td id=\"T_c534be06_a6fb_11eb_b3ec_7c5cf87e80d7row3_col2\" class=\"data row3 col2\" >3.81</td>\n",
       "            </tr>\n",
       "            <tr>\n",
       "                        <th id=\"T_c534be06_a6fb_11eb_b3ec_7c5cf87e80d7level0_row4\" class=\"row_heading level0 row4\" >30-34</th>\n",
       "                        <td id=\"T_c534be06_a6fb_11eb_b3ec_7c5cf87e80d7row4_col0\" class=\"data row4 col0\" >2.93</td>\n",
       "                        <td id=\"T_c534be06_a6fb_11eb_b3ec_7c5cf87e80d7row4_col1\" class=\"data row4 col1\" >214.00</td>\n",
       "                        <td id=\"T_c534be06_a6fb_11eb_b3ec_7c5cf87e80d7row4_col2\" class=\"data row4 col2\" >4.12</td>\n",
       "            </tr>\n",
       "            <tr>\n",
       "                        <th id=\"T_c534be06_a6fb_11eb_b3ec_7c5cf87e80d7level0_row5\" class=\"row_heading level0 row5\" >>34</th>\n",
       "                        <td id=\"T_c534be06_a6fb_11eb_b3ec_7c5cf87e80d7row5_col0\" class=\"data row5 col0\" >3.44</td>\n",
       "                        <td id=\"T_c534be06_a6fb_11eb_b3ec_7c5cf87e80d7row5_col1\" class=\"data row5 col1\" >185.91</td>\n",
       "                        <td id=\"T_c534be06_a6fb_11eb_b3ec_7c5cf87e80d7row5_col2\" class=\"data row5 col2\" >4.32</td>\n",
       "            </tr>\n",
       "    </tbody></table>"
      ],
      "text/plain": [
       "<pandas.io.formats.style.Styler at 0x161e85831c0>"
      ]
     },
     "execution_count": 16,
     "metadata": {},
     "output_type": "execute_result"
    }
   ],
   "source": [
    "#### Average Purchase Price\n",
    "#### Total Purchase Value\n",
    "#### Average Purchase Total per Person by Age Group\n",
    "\n",
    "Average_Purchase_Price_per_Age = Age_Intervals_df[\"Price\"].mean()\n",
    "Total_Purchase_Value = Age_Intervals_df[\"Price\"].sum()\n",
    "Average_Purchase_Total_pPerson_bAge_Group = Total_Purchase_Value / Age_Intervals_count\n",
    "\n",
    "Age_Demographics = pd.DataFrame({\"Average Purchase Price\" : Average_Purchase_Price_per_Age,\n",
    "                                 \"Total Purchase Value\" : Total_Purchase_Value,\n",
    "                                \"Average Purchase Total per Person by Age Group\" : Average_Purchase_Total_pPerson_bAge_Group})\n",
    "\n",
    "Age_Demographics.index.name = None\n",
    "Age_Demographics.style.format({\"Average Purchase Price\":\"{:,.2f}\",\n",
    "                              \"Total Purchase Value\":\"{:,.2f}\",\n",
    "                              \"Average Purchase Total per Person by Age Group\":\"{:,.2f}\"})\n"
   ]
  },
  {
   "cell_type": "markdown",
   "metadata": {},
   "source": [
    "## Purchasing Analysis (Age)"
   ]
  },
  {
   "cell_type": "markdown",
   "metadata": {},
   "source": [
    "* Bin the purchase_data data frame by age\n",
    "\n",
    "\n",
    "* Run basic calculations to obtain purchase count, avg. purchase price, avg. purchase total per person etc. in the table below\n",
    "\n",
    "\n",
    "* Create a summary data frame to hold the results\n",
    "\n",
    "\n",
    "* Optional: give the displayed data cleaner formatting\n",
    "\n",
    "\n",
    "* Display the summary data frame"
   ]
  },
  {
   "cell_type": "code",
   "execution_count": null,
   "metadata": {},
   "outputs": [],
   "source": []
  },
  {
   "cell_type": "markdown",
   "metadata": {},
   "source": [
    "## Top Spenders"
   ]
  },
  {
   "cell_type": "markdown",
   "metadata": {},
   "source": [
    "* Run basic calculations to obtain the results in the table below\n",
    "\n",
    "\n",
    "* Create a summary data frame to hold the results\n",
    "\n",
    "\n",
    "* Sort the total purchase value column in descending order\n",
    "\n",
    "\n",
    "* Optional: give the displayed data cleaner formatting\n",
    "\n",
    "\n",
    "* Display a preview of the summary data frame\n",
    "\n"
   ]
  },
  {
   "cell_type": "code",
   "execution_count": 17,
   "metadata": {},
   "outputs": [],
   "source": [
    "#### Identify the the top 5 spenders in the game by total purchase value, then list (in a table):\n",
    "#### SN\n",
    "#### Purchase Count\n",
    "#### Average Purchase Price\n",
    "#### Total Purchase Value"
   ]
  },
  {
   "cell_type": "code",
   "execution_count": 18,
   "metadata": {},
   "outputs": [
    {
     "data": {
      "text/html": [
       "<style  type=\"text/css\" >\n",
       "</style><table id=\"T_c53c71ca_a6fb_11eb_b86f_7c5cf87e80d7\" ><thead>    <tr>        <th class=\"blank level0\" ></th>        <th class=\"col_heading level0 col0\" >Purchase Count</th>        <th class=\"col_heading level0 col1\" >Average Purchase Price</th>        <th class=\"col_heading level0 col2\" >Total Purchase Value</th>    </tr>    <tr>        <th class=\"index_name level0\" >SN</th>        <th class=\"blank\" ></th>        <th class=\"blank\" ></th>        <th class=\"blank\" ></th>    </tr></thead><tbody>\n",
       "                <tr>\n",
       "                        <th id=\"T_c53c71ca_a6fb_11eb_b86f_7c5cf87e80d7level0_row0\" class=\"row_heading level0 row0\" >Lisosia93</th>\n",
       "                        <td id=\"T_c53c71ca_a6fb_11eb_b86f_7c5cf87e80d7row0_col0\" class=\"data row0 col0\" >5.00</td>\n",
       "                        <td id=\"T_c53c71ca_a6fb_11eb_b86f_7c5cf87e80d7row0_col1\" class=\"data row0 col1\" >3.79</td>\n",
       "                        <td id=\"T_c53c71ca_a6fb_11eb_b86f_7c5cf87e80d7row0_col2\" class=\"data row0 col2\" >18.96</td>\n",
       "            </tr>\n",
       "            <tr>\n",
       "                        <th id=\"T_c53c71ca_a6fb_11eb_b86f_7c5cf87e80d7level0_row1\" class=\"row_heading level0 row1\" >Idastidru52</th>\n",
       "                        <td id=\"T_c53c71ca_a6fb_11eb_b86f_7c5cf87e80d7row1_col0\" class=\"data row1 col0\" >4.00</td>\n",
       "                        <td id=\"T_c53c71ca_a6fb_11eb_b86f_7c5cf87e80d7row1_col1\" class=\"data row1 col1\" >3.86</td>\n",
       "                        <td id=\"T_c53c71ca_a6fb_11eb_b86f_7c5cf87e80d7row1_col2\" class=\"data row1 col2\" >15.45</td>\n",
       "            </tr>\n",
       "            <tr>\n",
       "                        <th id=\"T_c53c71ca_a6fb_11eb_b86f_7c5cf87e80d7level0_row2\" class=\"row_heading level0 row2\" >Chamjask73</th>\n",
       "                        <td id=\"T_c53c71ca_a6fb_11eb_b86f_7c5cf87e80d7row2_col0\" class=\"data row2 col0\" >3.00</td>\n",
       "                        <td id=\"T_c53c71ca_a6fb_11eb_b86f_7c5cf87e80d7row2_col1\" class=\"data row2 col1\" >4.61</td>\n",
       "                        <td id=\"T_c53c71ca_a6fb_11eb_b86f_7c5cf87e80d7row2_col2\" class=\"data row2 col2\" >13.83</td>\n",
       "            </tr>\n",
       "            <tr>\n",
       "                        <th id=\"T_c53c71ca_a6fb_11eb_b86f_7c5cf87e80d7level0_row3\" class=\"row_heading level0 row3\" >Iral74</th>\n",
       "                        <td id=\"T_c53c71ca_a6fb_11eb_b86f_7c5cf87e80d7row3_col0\" class=\"data row3 col0\" >4.00</td>\n",
       "                        <td id=\"T_c53c71ca_a6fb_11eb_b86f_7c5cf87e80d7row3_col1\" class=\"data row3 col1\" >3.40</td>\n",
       "                        <td id=\"T_c53c71ca_a6fb_11eb_b86f_7c5cf87e80d7row3_col2\" class=\"data row3 col2\" >13.62</td>\n",
       "            </tr>\n",
       "            <tr>\n",
       "                        <th id=\"T_c53c71ca_a6fb_11eb_b86f_7c5cf87e80d7level0_row4\" class=\"row_heading level0 row4\" >Iskadarya95</th>\n",
       "                        <td id=\"T_c53c71ca_a6fb_11eb_b86f_7c5cf87e80d7row4_col0\" class=\"data row4 col0\" >3.00</td>\n",
       "                        <td id=\"T_c53c71ca_a6fb_11eb_b86f_7c5cf87e80d7row4_col1\" class=\"data row4 col1\" >4.37</td>\n",
       "                        <td id=\"T_c53c71ca_a6fb_11eb_b86f_7c5cf87e80d7row4_col2\" class=\"data row4 col2\" >13.10</td>\n",
       "            </tr>\n",
       "    </tbody></table>"
      ],
      "text/plain": [
       "<pandas.io.formats.style.Styler at 0x161e85bda60>"
      ]
     },
     "execution_count": 18,
     "metadata": {},
     "output_type": "execute_result"
    }
   ],
   "source": [
    "Spender = table_df.groupby(\"SN\")\n",
    "Spender_Purchase_Count = Spender[\"Purchase ID\"].count()\n",
    "Spender_Average_Purchase_Price = Spender[\"Price\"].mean()\n",
    "Spender_Total_Purchase_Value = Spender[\"Price\"].sum()\n",
    "\n",
    "Top_Spender = pd.DataFrame ({\"Purchase Count\" : Spender_Purchase_Count,\n",
    "                            \"Average Purchase Price\" : Spender_Average_Purchase_Price,\n",
    "                            \"Total Purchase Value\" : Spender_Total_Purchase_Value})\n",
    "\n",
    "sorted_Spender = Top_Spender.sort_values([\"Total Purchase Value\"], ascending=False).head()\n",
    "\n",
    "sorted_Spender.style.format({\"Purchase Count\":\"{:,.2f}\",\n",
    "                              \"Average Purchase Price\":\"{:,.2f}\",\n",
    "                              \"Total Purchase Value\":\"{:,.2f}\"})\n"
   ]
  },
  {
   "cell_type": "code",
   "execution_count": null,
   "metadata": {},
   "outputs": [],
   "source": []
  },
  {
   "cell_type": "markdown",
   "metadata": {},
   "source": [
    "## Most Popular Items"
   ]
  },
  {
   "cell_type": "markdown",
   "metadata": {},
   "source": [
    "* Retrieve the Item ID, Item Name, and Item Price columns\n",
    "\n",
    "\n",
    "* Group by Item ID and Item Name. Perform calculations to obtain purchase count, average item price, and total purchase value\n",
    "\n",
    "\n",
    "* Create a summary data frame to hold the results\n",
    "\n",
    "\n",
    "* Sort the purchase count column in descending order\n",
    "\n",
    "\n",
    "* Optional: give the displayed data cleaner formatting\n",
    "\n",
    "\n",
    "* Display a preview of the summary data frame\n",
    "\n"
   ]
  },
  {
   "cell_type": "code",
   "execution_count": 41,
   "metadata": {},
   "outputs": [
    {
     "data": {
      "text/html": [
       "<style  type=\"text/css\" >\n",
       "</style><table id=\"T_0c9b66c8_a6fe_11eb_ac13_7c5cf87e80d7\" ><thead>    <tr>        <th class=\"blank\" ></th>        <th class=\"blank level0\" ></th>        <th class=\"col_heading level0 col0\" >Purchase Count</th>        <th class=\"col_heading level0 col1\" >Total Purchase Value</th>        <th class=\"col_heading level0 col2\" >Item Price</th>    </tr>    <tr>        <th class=\"index_name level0\" >Item ID</th>        <th class=\"index_name level1\" >Item Name</th>        <th class=\"blank\" ></th>        <th class=\"blank\" ></th>        <th class=\"blank\" ></th>    </tr></thead><tbody>\n",
       "                <tr>\n",
       "                        <th id=\"T_0c9b66c8_a6fe_11eb_ac13_7c5cf87e80d7level0_row0\" class=\"row_heading level0 row0\" >92</th>\n",
       "                        <th id=\"T_0c9b66c8_a6fe_11eb_ac13_7c5cf87e80d7level1_row0\" class=\"row_heading level1 row0\" >Final Critic</th>\n",
       "                        <td id=\"T_0c9b66c8_a6fe_11eb_ac13_7c5cf87e80d7row0_col0\" class=\"data row0 col0\" >13</td>\n",
       "                        <td id=\"T_0c9b66c8_a6fe_11eb_ac13_7c5cf87e80d7row0_col1\" class=\"data row0 col1\" >59.99</td>\n",
       "                        <td id=\"T_0c9b66c8_a6fe_11eb_ac13_7c5cf87e80d7row0_col2\" class=\"data row0 col2\" >4.61</td>\n",
       "            </tr>\n",
       "            <tr>\n",
       "                        <th id=\"T_0c9b66c8_a6fe_11eb_ac13_7c5cf87e80d7level0_row1\" class=\"row_heading level0 row1\" >178</th>\n",
       "                        <th id=\"T_0c9b66c8_a6fe_11eb_ac13_7c5cf87e80d7level1_row1\" class=\"row_heading level1 row1\" >Oathbreaker, Last Hope of the Breaking Storm</th>\n",
       "                        <td id=\"T_0c9b66c8_a6fe_11eb_ac13_7c5cf87e80d7row1_col0\" class=\"data row1 col0\" >12</td>\n",
       "                        <td id=\"T_0c9b66c8_a6fe_11eb_ac13_7c5cf87e80d7row1_col1\" class=\"data row1 col1\" >50.76</td>\n",
       "                        <td id=\"T_0c9b66c8_a6fe_11eb_ac13_7c5cf87e80d7row1_col2\" class=\"data row1 col2\" >4.23</td>\n",
       "            </tr>\n",
       "            <tr>\n",
       "                        <th id=\"T_0c9b66c8_a6fe_11eb_ac13_7c5cf87e80d7level0_row2\" class=\"row_heading level0 row2\" >145</th>\n",
       "                        <th id=\"T_0c9b66c8_a6fe_11eb_ac13_7c5cf87e80d7level1_row2\" class=\"row_heading level1 row2\" >Fiery Glass Crusader</th>\n",
       "                        <td id=\"T_0c9b66c8_a6fe_11eb_ac13_7c5cf87e80d7row2_col0\" class=\"data row2 col0\" >9</td>\n",
       "                        <td id=\"T_0c9b66c8_a6fe_11eb_ac13_7c5cf87e80d7row2_col1\" class=\"data row2 col1\" >41.22</td>\n",
       "                        <td id=\"T_0c9b66c8_a6fe_11eb_ac13_7c5cf87e80d7row2_col2\" class=\"data row2 col2\" >4.58</td>\n",
       "            </tr>\n",
       "            <tr>\n",
       "                        <th id=\"T_0c9b66c8_a6fe_11eb_ac13_7c5cf87e80d7level0_row3\" class=\"row_heading level0 row3\" >132</th>\n",
       "                        <th id=\"T_0c9b66c8_a6fe_11eb_ac13_7c5cf87e80d7level1_row3\" class=\"row_heading level1 row3\" >Persuasion</th>\n",
       "                        <td id=\"T_0c9b66c8_a6fe_11eb_ac13_7c5cf87e80d7row3_col0\" class=\"data row3 col0\" >9</td>\n",
       "                        <td id=\"T_0c9b66c8_a6fe_11eb_ac13_7c5cf87e80d7row3_col1\" class=\"data row3 col1\" >28.99</td>\n",
       "                        <td id=\"T_0c9b66c8_a6fe_11eb_ac13_7c5cf87e80d7row3_col2\" class=\"data row3 col2\" >3.22</td>\n",
       "            </tr>\n",
       "            <tr>\n",
       "                        <th id=\"T_0c9b66c8_a6fe_11eb_ac13_7c5cf87e80d7level0_row4\" class=\"row_heading level0 row4\" >108</th>\n",
       "                        <th id=\"T_0c9b66c8_a6fe_11eb_ac13_7c5cf87e80d7level1_row4\" class=\"row_heading level1 row4\" >Extraction, Quickblade Of Trembling Hands</th>\n",
       "                        <td id=\"T_0c9b66c8_a6fe_11eb_ac13_7c5cf87e80d7row4_col0\" class=\"data row4 col0\" >9</td>\n",
       "                        <td id=\"T_0c9b66c8_a6fe_11eb_ac13_7c5cf87e80d7row4_col1\" class=\"data row4 col1\" >31.77</td>\n",
       "                        <td id=\"T_0c9b66c8_a6fe_11eb_ac13_7c5cf87e80d7row4_col2\" class=\"data row4 col2\" >3.53</td>\n",
       "            </tr>\n",
       "    </tbody></table>"
      ],
      "text/plain": [
       "<pandas.io.formats.style.Styler at 0x161e882e970>"
      ]
     },
     "execution_count": 41,
     "metadata": {},
     "output_type": "execute_result"
    }
   ],
   "source": [
    "#### Identify the 5 most popular items by purchase count, then list (in a table):\n",
    "#### Item ID\n",
    "\n",
    "Item_ID = table_df[[\"Item ID\", \"Item Name\", \"Price\"]]\n",
    "\n",
    "#### Item Name\n",
    "\n",
    "Item_Data = Item_ID.groupby([\"Item ID\", \"Item Name\"])\n",
    "\n",
    "#### Purchase Count & Value\n",
    "\n",
    "Purchase_Count = Item_Data[\"Price\"].count()\n",
    "Purchase_Value = (Item_Data[\"Price\"].sum())\n",
    "\n",
    "#### Item Price\n",
    "\n",
    "Item_Price_New = Purchase_Value/Purchase_Count\n",
    "\n",
    "####  Most Popular & Total Purchase Value\n",
    "\n",
    "Most_Popular_Item = pd.DataFrame({\"Purchase Count\" : Purchase_Count,\n",
    "                               \"Total Purchase Value\" : Purchase_Value,\n",
    "                                \"Item Price\" : Item_Price_New })\n",
    "\n",
    "sorted_Popular_Item = Most_Popular_Item.sort_values([\"Purchase Count\"], ascending=False).head()\n",
    "\n",
    "sorted_Popular_Item.style.format({\"Item Price\":\"{:,.2f}\",\"Total Purchase Value\":\"{:,.2f}\"})\n",
    "\n",
    "\n"
   ]
  },
  {
   "cell_type": "code",
   "execution_count": null,
   "metadata": {},
   "outputs": [],
   "source": [
    "## Most Profitable Items"
   ]
  },
  {
   "cell_type": "markdown",
   "metadata": {},
   "source": [
    "* Sort the above table by total purchase value in descending order\n",
    "\n",
    "\n",
    "* Optional: give the displayed data cleaner formatting\n",
    "\n",
    "\n",
    "* Display a preview of the data frame\n",
    "\n"
   ]
  },
  {
   "cell_type": "code",
   "execution_count": null,
   "metadata": {
    "scrolled": true
   },
   "outputs": [],
   "source": [
    "#### Identify the 5 most profitable items by total purchase value, then list (in a table):\n",
    "\n",
    "#### Item ID\n",
    "\n",
    "\n",
    "#### Item Name\n",
    "#### Purchase Count\n",
    "#### Item Price\n",
    "#### Total Purchase Value"
   ]
  },
  {
   "cell_type": "code",
   "execution_count": 42,
   "metadata": {},
   "outputs": [
    {
     "data": {
      "text/html": [
       "<style  type=\"text/css\" >\n",
       "</style><table id=\"T_423b24f4_a6ff_11eb_952c_7c5cf87e80d7\" ><thead>    <tr>        <th class=\"blank\" ></th>        <th class=\"blank level0\" ></th>        <th class=\"col_heading level0 col0\" >Purchase Count</th>        <th class=\"col_heading level0 col1\" >Total Purchase Value</th>        <th class=\"col_heading level0 col2\" >Item Price</th>    </tr>    <tr>        <th class=\"index_name level0\" >Item ID</th>        <th class=\"index_name level1\" >Item Name</th>        <th class=\"blank\" ></th>        <th class=\"blank\" ></th>        <th class=\"blank\" ></th>    </tr></thead><tbody>\n",
       "                <tr>\n",
       "                        <th id=\"T_423b24f4_a6ff_11eb_952c_7c5cf87e80d7level0_row0\" class=\"row_heading level0 row0\" >92</th>\n",
       "                        <th id=\"T_423b24f4_a6ff_11eb_952c_7c5cf87e80d7level1_row0\" class=\"row_heading level1 row0\" >Final Critic</th>\n",
       "                        <td id=\"T_423b24f4_a6ff_11eb_952c_7c5cf87e80d7row0_col0\" class=\"data row0 col0\" >13</td>\n",
       "                        <td id=\"T_423b24f4_a6ff_11eb_952c_7c5cf87e80d7row0_col1\" class=\"data row0 col1\" >59.99</td>\n",
       "                        <td id=\"T_423b24f4_a6ff_11eb_952c_7c5cf87e80d7row0_col2\" class=\"data row0 col2\" >4.61</td>\n",
       "            </tr>\n",
       "            <tr>\n",
       "                        <th id=\"T_423b24f4_a6ff_11eb_952c_7c5cf87e80d7level0_row1\" class=\"row_heading level0 row1\" >178</th>\n",
       "                        <th id=\"T_423b24f4_a6ff_11eb_952c_7c5cf87e80d7level1_row1\" class=\"row_heading level1 row1\" >Oathbreaker, Last Hope of the Breaking Storm</th>\n",
       "                        <td id=\"T_423b24f4_a6ff_11eb_952c_7c5cf87e80d7row1_col0\" class=\"data row1 col0\" >12</td>\n",
       "                        <td id=\"T_423b24f4_a6ff_11eb_952c_7c5cf87e80d7row1_col1\" class=\"data row1 col1\" >50.76</td>\n",
       "                        <td id=\"T_423b24f4_a6ff_11eb_952c_7c5cf87e80d7row1_col2\" class=\"data row1 col2\" >4.23</td>\n",
       "            </tr>\n",
       "            <tr>\n",
       "                        <th id=\"T_423b24f4_a6ff_11eb_952c_7c5cf87e80d7level0_row2\" class=\"row_heading level0 row2\" >82</th>\n",
       "                        <th id=\"T_423b24f4_a6ff_11eb_952c_7c5cf87e80d7level1_row2\" class=\"row_heading level1 row2\" >Nirvana</th>\n",
       "                        <td id=\"T_423b24f4_a6ff_11eb_952c_7c5cf87e80d7row2_col0\" class=\"data row2 col0\" >9</td>\n",
       "                        <td id=\"T_423b24f4_a6ff_11eb_952c_7c5cf87e80d7row2_col1\" class=\"data row2 col1\" >44.10</td>\n",
       "                        <td id=\"T_423b24f4_a6ff_11eb_952c_7c5cf87e80d7row2_col2\" class=\"data row2 col2\" >4.90</td>\n",
       "            </tr>\n",
       "            <tr>\n",
       "                        <th id=\"T_423b24f4_a6ff_11eb_952c_7c5cf87e80d7level0_row3\" class=\"row_heading level0 row3\" >145</th>\n",
       "                        <th id=\"T_423b24f4_a6ff_11eb_952c_7c5cf87e80d7level1_row3\" class=\"row_heading level1 row3\" >Fiery Glass Crusader</th>\n",
       "                        <td id=\"T_423b24f4_a6ff_11eb_952c_7c5cf87e80d7row3_col0\" class=\"data row3 col0\" >9</td>\n",
       "                        <td id=\"T_423b24f4_a6ff_11eb_952c_7c5cf87e80d7row3_col1\" class=\"data row3 col1\" >41.22</td>\n",
       "                        <td id=\"T_423b24f4_a6ff_11eb_952c_7c5cf87e80d7row3_col2\" class=\"data row3 col2\" >4.58</td>\n",
       "            </tr>\n",
       "            <tr>\n",
       "                        <th id=\"T_423b24f4_a6ff_11eb_952c_7c5cf87e80d7level0_row4\" class=\"row_heading level0 row4\" >103</th>\n",
       "                        <th id=\"T_423b24f4_a6ff_11eb_952c_7c5cf87e80d7level1_row4\" class=\"row_heading level1 row4\" >Singed Scalpel</th>\n",
       "                        <td id=\"T_423b24f4_a6ff_11eb_952c_7c5cf87e80d7row4_col0\" class=\"data row4 col0\" >8</td>\n",
       "                        <td id=\"T_423b24f4_a6ff_11eb_952c_7c5cf87e80d7row4_col1\" class=\"data row4 col1\" >34.80</td>\n",
       "                        <td id=\"T_423b24f4_a6ff_11eb_952c_7c5cf87e80d7row4_col2\" class=\"data row4 col2\" >4.35</td>\n",
       "            </tr>\n",
       "    </tbody></table>"
      ],
      "text/plain": [
       "<pandas.io.formats.style.Styler at 0x161e889fca0>"
      ]
     },
     "execution_count": 42,
     "metadata": {},
     "output_type": "execute_result"
    }
   ],
   "source": [
    "sorted_Popular_Item = Most_Popular_Item.sort_values([\"Total Purchase Value\"], ascending=False).head()\n",
    "\n",
    "sorted_Popular_Item.style.format({\"Item Price\":\"{:,.2f}\",\"Total Purchase Value\":\"{:,.2f}\"})\n"
   ]
  },
  {
   "cell_type": "code",
   "execution_count": null,
   "metadata": {},
   "outputs": [],
   "source": [
    "\n",
    "## CONCLUSIONS-The three observable trends based on the data are:\n",
    "\n",
    "    #1.- The majority of the purchases are being made by Male with 83.59%\n",
    "    #2.- The majority of the purchases are being made between the ages of 20 & 24, the 2nd most is between 15 & 19,\n",
    "    #and 3rd most is between 25 & 29.\n",
    "    #3.- There is a direct correlation of the total purchase value betweeen the age group and the gender,\n",
    "    # being the most popular item the \"Final Critic\" with 13 purchases."
   ]
  },
  {
   "cell_type": "code",
   "execution_count": null,
   "metadata": {},
   "outputs": [],
   "source": []
  },
  {
   "cell_type": "code",
   "execution_count": null,
   "metadata": {},
   "outputs": [],
   "source": []
  },
  {
   "cell_type": "code",
   "execution_count": null,
   "metadata": {},
   "outputs": [],
   "source": []
  }
 ],
 "metadata": {
  "anaconda-cloud": {},
  "kernel_info": {
   "name": "python3"
  },
  "kernelspec": {
   "display_name": "Python 3",
   "language": "python",
   "name": "python3"
  },
  "language_info": {
   "codemirror_mode": {
    "name": "ipython",
    "version": 3
   },
   "file_extension": ".py",
   "mimetype": "text/x-python",
   "name": "python",
   "nbconvert_exporter": "python",
   "pygments_lexer": "ipython3",
   "version": "3.8.5"
  },
  "latex_envs": {
   "LaTeX_envs_menu_present": true,
   "autoclose": false,
   "autocomplete": true,
   "bibliofile": "biblio.bib",
   "cite_by": "apalike",
   "current_citInitial": 1,
   "eqLabelWithNumbers": true,
   "eqNumInitial": 1,
   "hotkeys": {
    "equation": "Ctrl-E",
    "itemize": "Ctrl-I"
   },
   "labels_anchors": false,
   "latex_user_defs": false,
   "report_style_numbering": false,
   "user_envs_cfg": false
  },
  "nteract": {
   "version": "0.2.0"
  }
 },
 "nbformat": 4,
 "nbformat_minor": 2
}
